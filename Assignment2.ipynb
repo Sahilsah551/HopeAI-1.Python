{
 "cells": [
  {
   "cell_type": "code",
   "execution_count": 1,
   "id": "f24b5d6a-67bb-4655-9a31-13609c7c8881",
   "metadata": {},
   "outputs": [
    {
     "name": "stdout",
     "output_type": "stream",
     "text": [
      "HOPE AI\n"
     ]
    }
   ],
   "source": [
    "print(\"HOPE AI\")"
   ]
  },
  {
   "cell_type": "code",
   "execution_count": 2,
   "id": "d2e71596-750f-4744-9dca-c48f39c42a0c",
   "metadata": {},
   "outputs": [
    {
     "name": "stdin",
     "output_type": "stream",
     "text": [
      "Enter your institute name?  HOPE AI\n"
     ]
    }
   ],
   "source": [
    "name = input(\"Enter your institute name? \")"
   ]
  },
  {
   "cell_type": "code",
   "execution_count": 4,
   "id": "ff5b6d1b-58b6-4223-a8b4-21c15bd99ffb",
   "metadata": {
    "scrolled": true
   },
   "outputs": [
    {
     "name": "stdin",
     "output_type": "stream",
     "text": [
      "Enter your name:  Raj\n",
      "Enter your age:  15\n",
      "Enter your school name:  Guru School\n",
      "Enter your degree:  B.E CSE\n"
     ]
    }
   ],
   "source": [
    "name = input(\"Enter your name: \")\n",
    "age = int(input(\"Enter your age: \"))\n",
    "school = input(\"Enter your school name: \")\n",
    "degree = input(\"Enter your degree: \")"
   ]
  },
  {
   "cell_type": "code",
   "execution_count": 5,
   "id": "9068e1a7-016f-4dbd-a217-880360243705",
   "metadata": {},
   "outputs": [
    {
     "name": "stdout",
     "output_type": "stream",
     "text": [
      "Add 77\n"
     ]
    }
   ],
   "source": [
    "a=43\n",
    "b=34\n",
    "add = (a+b)\n",
    "print(\"Add\", add)"
   ]
  },
  {
   "cell_type": "code",
   "execution_count": 6,
   "id": "5bd72b83-f325-4fb9-a87a-ce92fbfcee61",
   "metadata": {},
   "outputs": [
    {
     "name": "stdout",
     "output_type": "stream",
     "text": [
      "Sub 9\n"
     ]
    }
   ],
   "source": [
    "a=43\n",
    "b=34\n",
    "sub = (a-b)\n",
    "print(\"Sub\", sub)"
   ]
  },
  {
   "cell_type": "code",
   "execution_count": 9,
   "id": "6cd70370-e0b0-4cc8-a903-a9ca9ab021a7",
   "metadata": {},
   "outputs": [
    {
     "name": "stdout",
     "output_type": "stream",
     "text": [
      "Mul 6111\n"
     ]
    }
   ],
   "source": [
    "a=63\n",
    "b=97\n",
    "mul = (a*b)\n",
    "print(\"Mul\", mul)"
   ]
  },
  {
   "cell_type": "code",
   "execution_count": 12,
   "id": "b8044041-51a6-403f-a244-4dbf54c74865",
   "metadata": {},
   "outputs": [
    {
     "name": "stdout",
     "output_type": "stream",
     "text": [
      "Division 2.4516129032258065\n"
     ]
    }
   ],
   "source": [
    "a=76\n",
    "b=31\n",
    "div = (a/b)\n",
    "print(\"Division\", div)"
   ]
  },
  {
   "cell_type": "code",
   "execution_count": 14,
   "id": "afd284b6-fbc4-487b-99d1-eaae121a600e",
   "metadata": {},
   "outputs": [
    {
     "name": "stdout",
     "output_type": "stream",
     "text": [
      "Floor Div 2\n"
     ]
    }
   ],
   "source": [
    "a=76\n",
    "b=31\n",
    "floor = (a//b)\n",
    "print(\"Floor Div\", floor)"
   ]
  },
  {
   "cell_type": "code",
   "execution_count": 15,
   "id": "d6a6e529-f36e-4e96-8870-2f1b51aba8c4",
   "metadata": {},
   "outputs": [
    {
     "name": "stdout",
     "output_type": "stream",
     "text": [
      "Modulo 14\n"
     ]
    }
   ],
   "source": [
    "a=76\n",
    "b=31\n",
    "mod = (a%b)\n",
    "print(\"Modulo\", mod)"
   ]
  },
  {
   "cell_type": "code",
   "execution_count": 16,
   "id": "e6c93a66-e8b9-4b35-a7db-5d4cc7828c35",
   "metadata": {},
   "outputs": [
    {
     "name": "stdout",
     "output_type": "stream",
     "text": [
      "Power 256\n"
     ]
    }
   ],
   "source": [
    "a=4\n",
    "b=4\n",
    "power = (a**b)\n",
    "print(\"Power\", power)"
   ]
  }
 ],
 "metadata": {
  "kernelspec": {
   "display_name": "Python [conda env:base] *",
   "language": "python",
   "name": "conda-base-py"
  },
  "language_info": {
   "codemirror_mode": {
    "name": "ipython",
    "version": 3
   },
   "file_extension": ".py",
   "mimetype": "text/x-python",
   "name": "python",
   "nbconvert_exporter": "python",
   "pygments_lexer": "ipython3",
   "version": "3.13.5"
  }
 },
 "nbformat": 4,
 "nbformat_minor": 5
}
