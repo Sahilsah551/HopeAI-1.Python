{
 "cells": [
  {
   "cell_type": "code",
   "execution_count": 34,
   "id": "fa680c2b-ba16-427b-a991-675637290a9d",
   "metadata": {},
   "outputs": [
    {
     "name": "stdout",
     "output_type": "stream",
     "text": [
      "Sub-fields in AI are:\n",
      "Machine Learning\n",
      "Neural Networks\n",
      "Vision\n",
      "Robotics\n",
      "Speech Processing\n",
      "Natural Language Processing\n"
     ]
    }
   ],
   "source": [
    " print(\"Sub-fields in AI are:\")\n",
    "\n",
    "def Ailist():\n",
    "    list = [\"Machine Learning\", \"Neural Networks\", \"Vision\", \"Robotics\", \"Speech Processing\", \"Natural Language Processing\"]\n",
    "    \n",
    "for listing in list:\n",
    "     print(listing)\n",
    "    \n",
    "Ailist()\n",
    "    "
   ]
  },
  {
   "cell_type": "code",
   "execution_count": 38,
   "id": "4fe3e577-9567-4e6b-8b62-9db8b753bc6f",
   "metadata": {},
   "outputs": [
    {
     "name": "stdin",
     "output_type": "stream",
     "text": [
      "Enter a number:  54542\n"
     ]
    },
    {
     "name": "stdout",
     "output_type": "stream",
     "text": [
      "54542 is Even Number\n"
     ]
    }
   ],
   "source": [
    "def OddEven():\n",
    "    num = int(input(\"Enter a number: \"))\n",
    "    if (num % 2) == 1:\n",
    "        print(num,\"is Odd Number\")\n",
    "    else:\n",
    "        print(num,\"is Even Number\")\n",
    "OddEven()"
   ]
  },
  {
   "cell_type": "code",
   "execution_count": 68,
   "id": "df7c8ddc-7b30-4f1b-b810-e432cc6fae53",
   "metadata": {},
   "outputs": [
    {
     "name": "stdin",
     "output_type": "stream",
     "text": [
      "Enter your Gender:  Male\n",
      "Enter you Age:  20\n"
     ]
    },
    {
     "name": "stdout",
     "output_type": "stream",
     "text": [
      "Not Eligile\n"
     ]
    }
   ],
   "source": [
    "def Elegible():\n",
    "    gender = input(\"Enter your Gender: \")\n",
    "    age = int(input(\"Enter you Age: \"))\n",
    "    if (gender== \"Male\" and age >= 21):\n",
    "        print(\"Eligble\")\n",
    "        \n",
    "    elif (gender== \"Female\" and age >= 18):\n",
    "        print(\"Eligile\")\n",
    "    \n",
    "    else:\n",
    "        print(\"Not Eligile\")\n",
    "Elegible()"
   ]
  },
  {
   "cell_type": "code",
   "execution_count": 77,
   "id": "7349ea78-5664-4239-9423-10e73abf59cf",
   "metadata": {},
   "outputs": [
    {
     "name": "stdin",
     "output_type": "stream",
     "text": [
      "Enter you Subject1:  98\n",
      "Enter you Subject2:  87\n",
      "Enter you Subject3:  95\n",
      "Enter you Subject4:  95\n",
      "Enter you Subject5:  93\n"
     ]
    },
    {
     "name": "stdout",
     "output_type": "stream",
     "text": [
      "Total: 468\n",
      "percentage: 93.60000000000001\n"
     ]
    }
   ],
   "source": [
    "def marks():\n",
    "    subject1 = int(input(\"Enter you Subject1: \"))\n",
    "    subject2 = int(input(\"Enter you Subject2: \"))\n",
    "    subject3 = int(input(\"Enter you Subject3: \"))\n",
    "    subject4 = int(input(\"Enter you Subject4: \"))\n",
    "    subject5 = int(input(\"Enter you Subject5: \"))\n",
    "    total = subject1+subject2+subject3+subject4+subject5\n",
    "    percentage = (total / 500) * 100\n",
    "    print(\"Total:\",total)\n",
    "    print(\"percentage:\", percentage )\n",
    "marks()"
   ]
  },
  {
   "cell_type": "code",
   "execution_count": 84,
   "id": "d388d0a6-a24d-4e55-9cbd-eb4fa3e6ac76",
   "metadata": {},
   "outputs": [
    {
     "name": "stdin",
     "output_type": "stream",
     "text": [
      "Height: 32\n",
      "Breadth: 34\n"
     ]
    },
    {
     "name": "stdout",
     "output_type": "stream",
     "text": [
      "Area of Triangle: 544.0\n"
     ]
    },
    {
     "name": "stdin",
     "output_type": "stream",
     "text": [
      "Height1: 2\n",
      "Height2: 4\n",
      "Breadth: 4\n"
     ]
    },
    {
     "name": "stdout",
     "output_type": "stream",
     "text": [
      "Perimeter of Triangle: 10\n"
     ]
    }
   ],
   "source": [
    "def triangle():\n",
    "    height = int(input(\"Height:\"))\n",
    "    breadth = int(input(\"Breadth:\"))\n",
    "    formula = (height*breadth)/2\n",
    "    print(\"Area formula: (Height*Breadth)/2\")\n",
    "    print(\"Area of Triangle:\",formula)\n",
    "triangle()\n",
    "\n",
    "def perimeter():\n",
    "    height1 = int(input(\"Height1:\"))\n",
    "    height2 = int(input(\"Height2:\"))\n",
    "    breadth = int(input(\"Breadth:\"))\n",
    "    formula = (height1+height2+breadth)\n",
    "    print\n",
    "    print(\"Perimeter of Triangle:\",formula)\n",
    "perimeter()"
   ]
  },
  {
   "cell_type": "code",
   "execution_count": null,
   "id": "77bfa7e1-c281-485f-82b4-d7af518435c9",
   "metadata": {},
   "outputs": [],
   "source": []
  }
 ],
 "metadata": {
  "kernelspec": {
   "display_name": "Python [conda env:base] *",
   "language": "python",
   "name": "conda-base-py"
  },
  "language_info": {
   "codemirror_mode": {
    "name": "ipython",
    "version": 3
   },
   "file_extension": ".py",
   "mimetype": "text/x-python",
   "name": "python",
   "nbconvert_exporter": "python",
   "pygments_lexer": "ipython3",
   "version": "3.13.5"
  }
 },
 "nbformat": 4,
 "nbformat_minor": 5
}
